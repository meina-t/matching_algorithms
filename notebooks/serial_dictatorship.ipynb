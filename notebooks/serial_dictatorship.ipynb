{
 "cells": [
  {
   "cell_type": "markdown",
   "metadata": {},
   "source": [
    "## Description"
   ]
  },
  {
   "cell_type": "markdown",
   "metadata": {},
   "source": [
    "Serial Dictatorshipアルゴリズム。\n",
    "### 適用条件\n",
    "一対一または多対一、片側にのみ選好がある場合（多対一の時多側に選好がある場合）に用いられる。（両側に選好があっても良いが、片側は用いられない）\n",
    "\n",
    "その選好を持つ側には強く優先権が付けられている。選好を持たない側は公共のもの（初期配属を持たない）。\n",
    "\n",
    "### 性質\n",
    "- 効率的（Efficient）。\n",
    "- 片側耐戦略。\n",
    "- 安定性なし"
   ]
  },
  {
   "cell_type": "markdown",
   "metadata": {},
   "source": [
    "### 例の説明\n",
    "生徒が学校を選んでいく。\n",
    "生徒の列は成績のイメージ。"
   ]
  },
  {
   "cell_type": "markdown",
   "metadata": {},
   "source": [
    "## Set"
   ]
  },
  {
   "cell_type": "code",
   "execution_count": 1,
   "metadata": {},
   "outputs": [],
   "source": [
    "%load_ext autoreload\n",
    "%autoreload 2"
   ]
  },
  {
   "cell_type": "code",
   "execution_count": 2,
   "metadata": {},
   "outputs": [],
   "source": [
    "import numpy as np\n",
    "import pandas as pd\n",
    "import logging\n",
    "import json\n",
    "import sys\n",
    "import os"
   ]
  },
  {
   "cell_type": "code",
   "execution_count": 3,
   "metadata": {},
   "outputs": [],
   "source": [
    "project_root = os.path.abspath('..')\n",
    "if project_root not in sys.path:\n",
    "    sys.path.append(project_root)"
   ]
  },
  {
   "cell_type": "code",
   "execution_count": 4,
   "metadata": {},
   "outputs": [],
   "source": [
    "from algorithms.serial_dictatorship import serial_dictatorship\n",
    "from models.school import School\n",
    "from models.student import Student"
   ]
  },
  {
   "cell_type": "code",
   "execution_count": 5,
   "metadata": {},
   "outputs": [],
   "source": [
    "logging.basicConfig(\n",
    "    level=logging.DEBUG,\n",
    ")\n",
    "logger = logging.getLogger(__name__)"
   ]
  },
  {
   "cell_type": "markdown",
   "metadata": {},
   "source": [
    "## Data"
   ]
  },
  {
   "cell_type": "code",
   "execution_count": 6,
   "metadata": {},
   "outputs": [],
   "source": [
    "path = \"../samples/sample_sd.json\"\n",
    "with open(path, 'r') as f:\n",
    "    data = json.load(f)\n",
    "\n",
    "students = {\n",
    "    student_name: Student(\n",
    "        name=student_name, \n",
    "        preferences=student_info[\"preferences\"]\n",
    "        )\n",
    "    for student_name, student_info in data[\"students\"].items()\n",
    "}\n",
    "schools = {\n",
    "    school_name: School(\n",
    "        name=school_name, \n",
    "        capacity=school_info[\"capacity\"]\n",
    "        )\n",
    "    for school_name, school_info in data[\"schools\"].items()\n",
    "}\n"
   ]
  },
  {
   "cell_type": "markdown",
   "metadata": {},
   "source": [
    "## Result"
   ]
  },
  {
   "cell_type": "code",
   "execution_count": 7,
   "metadata": {},
   "outputs": [
    {
     "name": "stderr",
     "output_type": "stream",
     "text": [
      "INFO:root:student1 proposed to school1\n",
      "INFO:root:school1 accepted student1\n",
      "INFO:root:student2 proposed to school2\n",
      "INFO:root:school2 accepted student2\n",
      "INFO:root:student3 proposed to school1\n",
      "INFO:root:school1 accepted student3\n"
     ]
    }
   ],
   "source": [
    "result = serial_dictatorship(students, schools)"
   ]
  },
  {
   "cell_type": "code",
   "execution_count": 8,
   "metadata": {},
   "outputs": [
    {
     "name": "stdout",
     "output_type": "stream",
     "text": [
      "{'school1': ['student1', 'student3'], 'school2': ['student2'], 'school3': []}\n"
     ]
    }
   ],
   "source": [
    "print(result)"
   ]
  },
  {
   "cell_type": "code",
   "execution_count": null,
   "metadata": {},
   "outputs": [],
   "source": []
  }
 ],
 "metadata": {
  "kernelspec": {
   "display_name": "Python 3",
   "language": "python",
   "name": "python3"
  },
  "language_info": {
   "codemirror_mode": {
    "name": "ipython",
    "version": 3
   },
   "file_extension": ".py",
   "mimetype": "text/x-python",
   "name": "python",
   "nbconvert_exporter": "python",
   "pygments_lexer": "ipython3",
   "version": "3.11.6"
  }
 },
 "nbformat": 4,
 "nbformat_minor": 2
}
