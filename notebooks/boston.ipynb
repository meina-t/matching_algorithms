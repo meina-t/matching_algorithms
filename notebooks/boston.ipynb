{
 "cells": [
  {
   "cell_type": "markdown",
   "metadata": {},
   "source": [
    "## Description"
   ]
  },
  {
   "cell_type": "markdown",
   "metadata": {},
   "source": [
    "ボストン式（Immediate Acceptance algorithm.）。\n",
    "\n",
    "多対一、一対一マッチングで、両側に強選好がある時に用いられる。\n",
    "outside option(アンマッチの方を好む)を許す。今回は選好リストに含まないことでこれを表す。\n",
    "\n",
    "性質\n",
    "- 耐戦略性なし\n",
    "- 安定性なし"
   ]
  },
  {
   "cell_type": "markdown",
   "metadata": {},
   "source": [
    "例の状況\n",
    "- 生徒と学校のマッチングを求める。1つの学校につき定員を満たすまで複数の生徒が所属できるが、生徒は一つの学校にしか所属できない。\n",
    "- 生徒側提案。"
   ]
  },
  {
   "cell_type": "markdown",
   "metadata": {},
   "source": [
    "## Set"
   ]
  },
  {
   "cell_type": "code",
   "execution_count": 19,
   "metadata": {},
   "outputs": [
    {
     "name": "stdout",
     "output_type": "stream",
     "text": [
      "The autoreload extension is already loaded. To reload it, use:\n",
      "  %reload_ext autoreload\n"
     ]
    }
   ],
   "source": [
    "%load_ext autoreload\n",
    "%autoreload 2"
   ]
  },
  {
   "cell_type": "code",
   "execution_count": 20,
   "metadata": {},
   "outputs": [],
   "source": [
    "import numpy as np\n",
    "import pandas as pd\n",
    "import logging\n",
    "import json\n",
    "import sys\n",
    "import os"
   ]
  },
  {
   "cell_type": "code",
   "execution_count": 21,
   "metadata": {},
   "outputs": [],
   "source": [
    "project_root = os.path.abspath('..')\n",
    "if project_root not in sys.path:\n",
    "    sys.path.append(project_root)"
   ]
  },
  {
   "cell_type": "code",
   "execution_count": 22,
   "metadata": {},
   "outputs": [],
   "source": [
    "from algorithms.boston import boston\n",
    "from models.school import School\n",
    "from models.student import Student"
   ]
  },
  {
   "cell_type": "code",
   "execution_count": 23,
   "metadata": {},
   "outputs": [],
   "source": [
    "logging.basicConfig(\n",
    "    level=logging.DEBUG,\n",
    ")\n",
    "logger = logging.getLogger(__name__)"
   ]
  },
  {
   "cell_type": "markdown",
   "metadata": {},
   "source": [
    "## Data\n"
   ]
  },
  {
   "cell_type": "code",
   "execution_count": 29,
   "metadata": {},
   "outputs": [],
   "source": [
    "path = \"../samples/sample_boston.json\"\n",
    "with open(path, 'r') as f:\n",
    "    data = json.load(f)\n",
    "\n",
    "students = {k: Student(k, v['preferences']) for k, v in data['students'].items()}\n",
    "schools = {k: School(k, v['preferences'], v['capacity']) for k, v in data['schools'].items()}\n"
   ]
  },
  {
   "cell_type": "markdown",
   "metadata": {},
   "source": [
    "## Results"
   ]
  },
  {
   "cell_type": "code",
   "execution_count": 30,
   "metadata": {},
   "outputs": [
    {
     "name": "stderr",
     "output_type": "stream",
     "text": [
      "INFO:root:student1 proposed to school1\n",
      "INFO:root:student2 proposed to school2\n",
      "INFO:root:student3 proposed to school1\n",
      "INFO:root:student4 proposed to school1\n",
      "INFO:root:student5 proposed to school2\n",
      "INFO:root:school1 accepted [Student(student1), Student(student3)] and rejected [Student(student4)]\n",
      "INFO:root:school2 accepted [Student(student2)] and rejected [Student(student5)]\n",
      "INFO:root:school3 accepted [] and rejected []\n",
      "INFO:root:student4 proposed to school2\n",
      "INFO:root:student5 proposed to school3\n",
      "INFO:root:school1 accepted [Student(student1), Student(student3)] and rejected []\n",
      "INFO:root:school2 accepted [Student(student2)] and rejected [Student(student4)]\n",
      "INFO:root:school3 accepted [Student(student5)] and rejected []\n",
      "INFO:root:student4 proposed to school3\n",
      "INFO:root:school1 accepted [Student(student1), Student(student3)] and rejected []\n",
      "INFO:root:school2 accepted [Student(student2)] and rejected []\n",
      "INFO:root:school3 accepted [Student(student5)] and rejected [Student(student4)]\n",
      "INFO:root:student4 proposed to None\n",
      "INFO:root:school1 accepted [Student(student1), Student(student3)] and rejected []\n",
      "INFO:root:school2 accepted [Student(student2)] and rejected []\n",
      "INFO:root:school3 accepted [Student(student5)] and rejected []\n"
     ]
    }
   ],
   "source": [
    "result = boston(students, schools)"
   ]
  },
  {
   "cell_type": "code",
   "execution_count": 31,
   "metadata": {},
   "outputs": [
    {
     "name": "stdout",
     "output_type": "stream",
     "text": [
      "{'school1': ['student1', 'student3'], 'school2': ['student2'], 'school3': ['student5']}\n"
     ]
    }
   ],
   "source": [
    "print(result)"
   ]
  },
  {
   "cell_type": "code",
   "execution_count": null,
   "metadata": {},
   "outputs": [],
   "source": []
  }
 ],
 "metadata": {
  "kernelspec": {
   "display_name": "Python 3",
   "language": "python",
   "name": "python3"
  },
  "language_info": {
   "codemirror_mode": {
    "name": "ipython",
    "version": 3
   },
   "file_extension": ".py",
   "mimetype": "text/x-python",
   "name": "python",
   "nbconvert_exporter": "python",
   "pygments_lexer": "ipython3",
   "version": "3.11.6"
  }
 },
 "nbformat": 4,
 "nbformat_minor": 2
}
